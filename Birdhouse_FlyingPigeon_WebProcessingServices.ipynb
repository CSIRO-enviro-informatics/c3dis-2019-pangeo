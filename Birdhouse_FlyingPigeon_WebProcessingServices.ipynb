{
 "cells": [
  {
   "cell_type": "code",
   "execution_count": null,
   "metadata": {},
   "outputs": [],
   "source": [
    "%%bash\n",
    "pip install geojson regionmask salem joblib \n",
    "conda install -c birdhouse -c conda-forge birdhouse-birdy"
   ]
  },
  {
   "cell_type": "code",
   "execution_count": 21,
   "metadata": {},
   "outputs": [],
   "source": [
    "from owslib.wps import WebProcessingService"
   ]
  },
  {
   "cell_type": "code",
   "execution_count": 22,
   "metadata": {},
   "outputs": [],
   "source": [
    "wps = WebProcessingService('http://lw-77-cdc.it.csiro.au:8093/wps', verbose=False, skip_caps=True)"
   ]
  },
  {
   "cell_type": "code",
   "execution_count": 23,
   "metadata": {},
   "outputs": [],
   "source": [
    "wps.getcapabilities()"
   ]
  },
  {
   "cell_type": "code",
   "execution_count": 24,
   "metadata": {
    "scrolled": true
   },
   "outputs": [
    {
     "name": "stdout",
     "output_type": "stream",
     "text": [
      "subset_bbox Subset BBox\n",
      "subset_polygon Subset\n",
      "subset_continents Subset Continents\n",
      "subset_countries Subset Countries\n",
      "pointinspection Point Inspection\n",
      "subset_WFS Subset WFS\n",
      "spatial_analog Spatial analog of a target climate.\n",
      "plot_timeseries Graphics (timeseries)\n",
      "plot_spatial_analog Map of dissimilarity values calculated by the spatial_analog process.\n"
     ]
    },
    {
     "data": {
      "text/plain": [
       "[None, None, None, None, None, None, None, None, None]"
      ]
     },
     "execution_count": 24,
     "metadata": {},
     "output_type": "execute_result"
    }
   ],
   "source": [
    "[print(process.identifier + \" \" + process.title) for process in wps.processes]"
   ]
  },
  {
   "cell_type": "code",
   "execution_count": 25,
   "metadata": {},
   "outputs": [],
   "source": [
    "processid = 'pointinspection'"
   ]
  },
  {
   "cell_type": "code",
   "execution_count": 26,
   "metadata": {},
   "outputs": [],
   "source": [
    "process = wps.describeprocess(processid)"
   ]
  },
  {
   "cell_type": "code",
   "execution_count": 27,
   "metadata": {},
   "outputs": [
    {
     "data": {
      "text/plain": [
       "'Extract the timeseries at the given coordinates.'"
      ]
     },
     "execution_count": 27,
     "metadata": {},
     "output_type": "execute_result"
    }
   ],
   "source": [
    "process.abstract"
   ]
  },
  {
   "cell_type": "code",
   "execution_count": 28,
   "metadata": {},
   "outputs": [
    {
     "name": "stdout",
     "output_type": "stream",
     "text": [
      " identifier=resource, title=Resource, abstract=NetCDF files or archive (tar/zip) containing NetCDF files., data type=ComplexData\n",
      " Supported Value: mimeType=application/x-netcdf, encoding=None, schema=None\n",
      " Supported Value: mimeType=application/x-tar, encoding=None, schema=None\n",
      " Supported Value: mimeType=application/zip, encoding=None, schema=None\n",
      " Default Value: mimeType=application/x-netcdf, encoding=None, schema=None \n",
      " minOccurs=1, maxOccurs=1000\n",
      " identifier=coords, title=Coordinates, abstract=Comma-seperated tuple of WGS85 lon, lat decimal coordinates (e.g. 2.356138, 48.846450)., data type=//www.w3.org/TR/xmlschema-2/#string\n",
      " Any value allowed\n",
      " Default Value: 2.356138, 48.846450 \n",
      " minOccurs=1, maxOccurs=100\n"
     ]
    }
   ],
   "source": [
    "from owslib.wps import printInputOutput\n",
    "for input in process.dataInputs:\n",
    "     printInputOutput(input)"
   ]
  },
  {
   "cell_type": "code",
   "execution_count": 29,
   "metadata": {},
   "outputs": [],
   "source": [
    "from birdy import WPSClient"
   ]
  },
  {
   "cell_type": "code",
   "execution_count": 30,
   "metadata": {},
   "outputs": [],
   "source": [
    "import birdy"
   ]
  },
  {
   "cell_type": "code",
   "execution_count": 31,
   "metadata": {},
   "outputs": [
    {
     "data": {
      "text/plain": [
       "['BirdyClient',\n",
       " 'WPSClient',\n",
       " '__builtins__',\n",
       " '__cached__',\n",
       " '__doc__',\n",
       " '__file__',\n",
       " '__loader__',\n",
       " '__name__',\n",
       " '__package__',\n",
       " '__path__',\n",
       " '__spec__',\n",
       " '__version__',\n",
       " 'client',\n",
       " 'dependencies',\n",
       " 'exceptions',\n",
       " 'import_wps',\n",
       " 'utils']"
      ]
     },
     "execution_count": 31,
     "metadata": {},
     "output_type": "execute_result"
    }
   ],
   "source": [
    "dir(birdy)"
   ]
  },
  {
   "cell_type": "code",
   "execution_count": 32,
   "metadata": {},
   "outputs": [],
   "source": [
    "url = 'http://lw-77-cdc.it.csiro.au:8093/wps'"
   ]
  },
  {
   "cell_type": "code",
   "execution_count": 33,
   "metadata": {},
   "outputs": [],
   "source": [
    "data_url = 'http://data-mel.it.csiro.au/thredds/fileServer/catch_all/lw_oznome/AWRA-L_averages/etot/SeasonalAverage/SeasonalTotalMean_complete_etot.nc'"
   ]
  },
  {
   "cell_type": "code",
   "execution_count": 34,
   "metadata": {},
   "outputs": [],
   "source": [
    "fp = WPSClient(url)"
   ]
  },
  {
   "cell_type": "code",
   "execution_count": 35,
   "metadata": {},
   "outputs": [],
   "source": [
    "resp = fp.pointinspection(data_url, \"143.97, -36.21\")"
   ]
  },
  {
   "cell_type": "code",
   "execution_count": 36,
   "metadata": {},
   "outputs": [
    {
     "name": "stderr",
     "output_type": "stream",
     "text": [
      "/home/lei053/miniconda3/envs/pyAODN/lib/python3.6/site-packages/birdy/client/converters.py:265: UserWarning: No converter was found.\n",
      "  warnings.warn(UserWarning(\"No converter was found.\"))\n"
     ]
    }
   ],
   "source": [
    "resp.get()\n",
    "nc_out = resp.get(asobj=True)"
   ]
  },
  {
   "cell_type": "code",
   "execution_count": 37,
   "metadata": {},
   "outputs": [
    {
     "data": {
      "text/plain": [
       "pointinspectionResponse(\n",
       "    tarout='http://localhost:8093/outputs/d02ebb02-77a9-11e9-b8b0-0242ac150002/tmp1z5uv23v.tar'\n",
       ")"
      ]
     },
     "execution_count": 37,
     "metadata": {},
     "output_type": "execute_result"
    }
   ],
   "source": [
    "resp.get(asobj=True)"
   ]
  },
  {
   "cell_type": "code",
   "execution_count": null,
   "metadata": {},
   "outputs": [],
   "source": []
  }
 ],
 "metadata": {
  "kernelspec": {
   "display_name": "Python [conda env:pyAODN] *",
   "language": "python",
   "name": "conda-env-pyAODN-py"
  },
  "language_info": {
   "codemirror_mode": {
    "name": "ipython",
    "version": 3
   },
   "file_extension": ".py",
   "mimetype": "text/x-python",
   "name": "python",
   "nbconvert_exporter": "python",
   "pygments_lexer": "ipython3",
   "version": "3.6.7"
  }
 },
 "nbformat": 4,
 "nbformat_minor": 2
}
