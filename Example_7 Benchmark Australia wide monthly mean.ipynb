{
 "cells": [
  {
   "cell_type": "code",
   "execution_count": 1,
   "metadata": {},
   "outputs": [
    {
     "name": "stderr",
     "output_type": "stream",
     "text": [
      "/group/pawsey0106/miniconda3/envs/c3dis/envs/c3dis2/lib/python3.6/site-packages/dask/config.py:168: YAMLLoadWarning: calling yaml.load() without Loader=... is deprecated, as the default Loader is unsafe. Please read https://msg.pyyaml.org/load for full details.\n",
      "  data = yaml.load(f.read()) or {}\n",
      "/group/pawsey0106/miniconda3/envs/c3dis/envs/c3dis2/lib/python3.6/site-packages/distributed/config.py:20: YAMLLoadWarning: calling yaml.load() without Loader=... is deprecated, as the default Loader is unsafe. Please read https://msg.pyyaml.org/load for full details.\n",
      "  defaults = yaml.load(f)\n"
     ]
    }
   ],
   "source": [
    "import xarray as xr"
   ]
  },
  {
   "cell_type": "code",
   "execution_count": 2,
   "metadata": {},
   "outputs": [
    {
     "name": "stderr",
     "output_type": "stream",
     "text": [
      "/group/pawsey0106/miniconda3/envs/c3dis/envs/c3dis2/lib/python3.6/site-packages/dask_jobqueue/config.py:12: YAMLLoadWarning: calling yaml.load() without Loader=... is deprecated, as the default Loader is unsafe. Please read https://msg.pyyaml.org/load for full details.\n",
      "  defaults = yaml.load(f)\n"
     ]
    },
    {
     "data": {
      "application/vnd.jupyter.widget-view+json": {
       "model_id": "baa49ed0160e4d4c8fd8183fbe7398c4",
       "version_major": 2,
       "version_minor": 0
      },
      "text/plain": [
       "VBox(children=(HTML(value='<h2>SLURMCluster</h2>'), HBox(children=(HTML(value='\\n<div>\\n  <style scoped>\\n    …"
      ]
     },
     "metadata": {},
     "output_type": "display_data"
    }
   ],
   "source": [
    "from dask_jobqueue import SLURMCluster\n",
    "cluster = SLURMCluster(scheduler_port=8789)\n",
    "cluster"
   ]
  },
  {
   "cell_type": "code",
   "execution_count": 3,
   "metadata": {},
   "outputs": [
    {
     "data": {
      "application/vnd.jupyter.widget-view+json": {
       "model_id": "8e0050491e2647da99f85c9f08c206f7",
       "version_major": 2,
       "version_minor": 0
      },
      "text/plain": [
       "VBox(children=(HTML(value='<h2>LocalCluster</h2>'), HBox(children=(HTML(value='\\n<div>\\n  <style scoped>\\n    …"
      ]
     },
     "metadata": {},
     "output_type": "display_data"
    }
   ],
   "source": [
    "# from distributed import LocalCluster\n",
    "# cluster = LocalCluster(n_workers=3,threads_per_worker=1)\n",
    "# cluster"
   ]
  },
  {
   "cell_type": "code",
   "execution_count": 3,
   "metadata": {},
   "outputs": [
    {
     "data": {
      "text/html": [
       "<table style=\"border: 2px solid white;\">\n",
       "<tr>\n",
       "<td style=\"vertical-align: top; border: 0px solid white\">\n",
       "<h3>Client</h3>\n",
       "<ul>\n",
       "  <li><b>Scheduler: </b>tcp://localhost:8789\n",
       "  <li><b>Dashboard: </b><a href='http://localhost:8787/status' target='_blank'>http://localhost:8787/status</a>\n",
       "</ul>\n",
       "</td>\n",
       "<td style=\"vertical-align: top; border: 0px solid white\">\n",
       "<h3>Cluster</h3>\n",
       "<ul>\n",
       "  <li><b>Workers: </b>0</li>\n",
       "  <li><b>Cores: </b>0</li>\n",
       "  <li><b>Memory: </b>0 B</li>\n",
       "</ul>\n",
       "</td>\n",
       "</tr>\n",
       "</table>"
      ],
      "text/plain": [
       "<Client: scheduler='tcp://146.118.38.43:8789' processes=0 cores=0>"
      ]
     },
     "execution_count": 3,
     "metadata": {},
     "output_type": "execute_result"
    }
   ],
   "source": [
    "from distributed import Client\n",
    "# client=Client(cluster)\n",
    "client=Client('tcp://localhost:8789')\n",
    "client"
   ]
  },
  {
   "cell_type": "markdown",
   "metadata": {},
   "source": [
    "### 1. Against the netCDFs on the thredds server"
   ]
  },
  {
   "cell_type": "code",
   "execution_count": 4,
   "metadata": {},
   "outputs": [
    {
     "data": {
      "text/plain": [
       "['http://thredds.aodn.org.au/thredds/dodsC/IMOS/SRS/OC/gridded/aqua/P1D/2014/01/A.P1D.20140101T000000Z.aust.K_490.nc',\n",
       " 'http://thredds.aodn.org.au/thredds/dodsC/IMOS/SRS/OC/gridded/aqua/P1D/2014/01/A.P1D.20140102T000000Z.aust.K_490.nc',\n",
       " 'http://thredds.aodn.org.au/thredds/dodsC/IMOS/SRS/OC/gridded/aqua/P1D/2014/01/A.P1D.20140103T000000Z.aust.K_490.nc',\n",
       " 'http://thredds.aodn.org.au/thredds/dodsC/IMOS/SRS/OC/gridded/aqua/P1D/2014/01/A.P1D.20140104T000000Z.aust.K_490.nc',\n",
       " 'http://thredds.aodn.org.au/thredds/dodsC/IMOS/SRS/OC/gridded/aqua/P1D/2014/01/A.P1D.20140105T000000Z.aust.K_490.nc',\n",
       " 'http://thredds.aodn.org.au/thredds/dodsC/IMOS/SRS/OC/gridded/aqua/P1D/2014/01/A.P1D.20140106T000000Z.aust.K_490.nc',\n",
       " 'http://thredds.aodn.org.au/thredds/dodsC/IMOS/SRS/OC/gridded/aqua/P1D/2014/01/A.P1D.20140107T000000Z.aust.K_490.nc',\n",
       " 'http://thredds.aodn.org.au/thredds/dodsC/IMOS/SRS/OC/gridded/aqua/P1D/2014/01/A.P1D.20140108T000000Z.aust.K_490.nc',\n",
       " 'http://thredds.aodn.org.au/thredds/dodsC/IMOS/SRS/OC/gridded/aqua/P1D/2014/01/A.P1D.20140109T000000Z.aust.K_490.nc',\n",
       " 'http://thredds.aodn.org.au/thredds/dodsC/IMOS/SRS/OC/gridded/aqua/P1D/2014/01/A.P1D.20140110T000000Z.aust.K_490.nc']"
      ]
     },
     "execution_count": 4,
     "metadata": {},
     "output_type": "execute_result"
    }
   ],
   "source": [
    "#Saved these URLs earlier - see Example 2\n",
    "import yaml\n",
    "with open('K490_url_2014.yml', 'r') as infile:\n",
    "    all_urls=yaml.safe_load(infile)\n",
    "all_urls[0:10]"
   ]
  },
  {
   "cell_type": "markdown",
   "metadata": {},
   "source": [
    "Open the dataset with xarray with each file in parallel using dask. Chunks alinged with netcdf file chunks"
   ]
  },
  {
   "cell_type": "code",
   "execution_count": null,
   "metadata": {
    "scrolled": false
   },
   "outputs": [],
   "source": [
    "ds_thredds = xr.open_mfdataset(all_urls,chunks={'latitude':856*3,'longitude':1223*3},parallel=True) \n",
    "# ds_thredds = xr.open_mfdataset(all_urls,chunks={'time':1},parallel=True) \n",
    "ds_thredds"
   ]
  },
  {
   "cell_type": "markdown",
   "metadata": {},
   "source": [
    "Calculate the monthly means over 12 months of daily files. This makes approximately 30k opendap requests(!) and takes a little while to run. Works, but not all that well. Should probably optimise chunk size (increase)"
   ]
  },
  {
   "cell_type": "code",
   "execution_count": null,
   "metadata": {},
   "outputs": [],
   "source": [
    "import time\n",
    "\n",
    "start = time.time()\n",
    "monthly_mean = ds_thredds.groupby('time.month').mean('time').compute() \n",
    "end = time.time()\n",
    "print('Elapsed time: %.2f s' % (end - start))\n",
    "\n",
    "monthly_mean"
   ]
  },
  {
   "cell_type": "markdown",
   "metadata": {},
   "source": [
    "### 2. Against the netCDFs on S3 directly "
   ]
  },
  {
   "cell_type": "markdown",
   "metadata": {},
   "source": [
    "New functionality provided by s3fs+h5netcdf using file like objects - doesnt work with open_mfdataset (yet!). But we can mimic the functionality of open_mfdataset using a dask delayed function call. Pretty slow, essentially just downloading the files to a memory cache... I think. So makes sense to chunk on a file basis."
   ]
  },
  {
   "cell_type": "code",
   "execution_count": 29,
   "metadata": {},
   "outputs": [
    {
     "data": {
      "text/plain": [
       "<xarray.Dataset>\n",
       "Dimensions:    (latitude: 7001, longitude: 10001, time: 365)\n",
       "Coordinates:\n",
       "  * latitude   (latitude) float64 10.0 9.99 9.98 9.97 ... -59.98 -59.99 -60.0\n",
       "  * longitude  (longitude) float64 80.0 80.01 80.02 80.03 ... 180.0 180.0 180.0\n",
       "  * time       (time) datetime64[ns] 2014-01-01 2014-01-02 ... 2014-12-31\n",
       "Data variables:\n",
       "    K_490      (time, latitude, longitude) float32 dask.array<shape=(365, 7001, 10001), chunksize=(1, 7001, 10001)>\n",
       "Attributes:\n",
       "    history:      File initialised at 2015-12-16T15:53:48.785210\\nInitialised...\n",
       "    Conventions:  CF-1.6\n",
       "    source_path:  imos-srs/archive/oc/aqua/1d/v201508/2014/01/A20140101.L2OC_..."
      ]
     },
     "execution_count": 29,
     "metadata": {},
     "output_type": "execute_result"
    }
   ],
   "source": [
    "import s3fs\n",
    "from dask import delayed, compute\n",
    "@delayed \n",
    "def open_s3_dataset(s3path):\n",
    "    fs = s3fs.S3FileSystem(anon=True, default_fill_cache=False)\n",
    "    fobj = fs.open(s3path)\n",
    "    return xr.open_dataset(fobj,engine='h5netcdf',chunks={'time':1})\n",
    "\n",
    "all_files = []\n",
    "fs = s3fs.S3FileSystem(anon=True)\n",
    "months = fs.ls('imos-data/IMOS/SRS/OC/gridded/aqua/P1D/2014')\n",
    "for month in months:\n",
    "    this_month = [f for f in fs.ls(month) if 'K_490' in f]\n",
    "    all_files=all_files+this_month\n",
    "\n",
    "futures = [open_s3_dataset(s3path) for s3path in all_files]\n",
    "\n",
    "datasets = compute(futures)[0]\n",
    "\n",
    "ds_s3netcdf = xr.concat(datasets,dim='time')\n",
    "ds_s3netcdf"
   ]
  },
  {
   "cell_type": "markdown",
   "metadata": {},
   "source": [
    "Calculate the monthly mean as above again - this is also pretty slow, but it works!"
   ]
  },
  {
   "cell_type": "code",
   "execution_count": null,
   "metadata": {},
   "outputs": [],
   "source": [
    "import time\n",
    "\n",
    "start = time.time()\n",
    "monthly_mean = ds_s3netcdf.groupby('time.month').mean('time').compute() \n",
    "end = time.time()\n",
    "print('Elapsed time: %.2f s' % (end - start))\n",
    "\n",
    "monthly_mean"
   ]
  },
  {
   "cell_type": "markdown",
   "metadata": {},
   "source": [
    "### 3. Against the netCDFs on local (Lustre - fast!) file system "
   ]
  },
  {
   "cell_type": "markdown",
   "metadata": {},
   "source": [
    "Chunked according to the netCDF file chunking used"
   ]
  },
  {
   "cell_type": "code",
   "execution_count": 24,
   "metadata": {},
   "outputs": [
    {
     "data": {
      "text/plain": [
       "<xarray.Dataset>\n",
       "Dimensions:    (latitude: 7001, longitude: 10001, time: 365)\n",
       "Coordinates:\n",
       "  * latitude   (latitude) float64 10.0 9.99 9.98 9.97 ... -59.98 -59.99 -60.0\n",
       "  * longitude  (longitude) float64 80.0 80.01 80.02 80.03 ... 180.0 180.0 180.0\n",
       "  * time       (time) datetime64[ns] 2014-01-01 2014-01-02 ... 2014-12-31\n",
       "Data variables:\n",
       "    K_490      (time, latitude, longitude) float32 dask.array<shape=(365, 7001, 10001), chunksize=(1, 856, 1223)>\n",
       "Attributes:\n",
       "    history:      File initialised at 2015-12-16T15:53:48.785210\\nInitialised...\n",
       "    Conventions:  CF-1.6\n",
       "    source_path:  imos-srs/archive/oc/aqua/1d/v201508/2014/01/A20140101.L2OC_..."
      ]
     },
     "execution_count": 24,
     "metadata": {},
     "output_type": "execute_result"
    }
   ],
   "source": [
    "import glob, os\n",
    "files = glob.glob(os.environ['MYSCRATCH'] + '/aqua_files/*2014*')\n",
    "files = sorted(files)\n",
    "\n",
    "ds_netcdf = xr.open_mfdataset(files,chunks={'latitude':856,'longitude':1223},parallel=True) \n",
    "ds_netcdf\n"
   ]
  },
  {
   "cell_type": "code",
   "execution_count": 33,
   "metadata": {},
   "outputs": [
    {
     "name": "stdout",
     "output_type": "stream",
     "text": [
      "Elapsed time: 189.78 s\n"
     ]
    },
    {
     "data": {
      "text/plain": [
       "<xarray.Dataset>\n",
       "Dimensions:    (latitude: 7001, longitude: 10001, month: 12)\n",
       "Coordinates:\n",
       "  * latitude   (latitude) float64 10.0 9.99 9.98 9.97 ... -59.98 -59.99 -60.0\n",
       "  * longitude  (longitude) float64 80.0 80.01 80.02 80.03 ... 180.0 180.0 180.0\n",
       "  * month      (month) int64 1 2 3 4 5 6 7 8 9 10 11 12\n",
       "Data variables:\n",
       "    K_490      (month, latitude, longitude) float32 nan nan nan ... 0.083 0.083"
      ]
     },
     "execution_count": 33,
     "metadata": {},
     "output_type": "execute_result"
    }
   ],
   "source": [
    "import time\n",
    "\n",
    "start = time.time()\n",
    "monthly_mean = ds_netcdf.groupby('time.month').mean('time').compute() \n",
    "end = time.time()\n",
    "print('Elapsed time: %.2f s' % (end - start))\n",
    "\n",
    "monthly_mean"
   ]
  },
  {
   "cell_type": "markdown",
   "metadata": {},
   "source": [
    "### 4. Against the Zarr on local (Lustre - fast!) file system "
   ]
  },
  {
   "cell_type": "markdown",
   "metadata": {},
   "source": [
    "Notice how each time the number of lines of code is reducing, better chunking in the zarr probably helps in this. Most of the time is now in building the dask task graph and copying the dataset back to the memory of the notebook! The calculation only takes < 5 s (!)"
   ]
  },
  {
   "cell_type": "code",
   "execution_count": 17,
   "metadata": {},
   "outputs": [],
   "source": [
    "import glob\n",
    "zarr_path = os.environ['MYSCRATCH'] + '/aqua.P1D.aust.K_490.2014.zarr'\n",
    "ds_zarr = xr.open_zarr(zarr_path) # Already chunked on filesystem"
   ]
  },
  {
   "cell_type": "code",
   "execution_count": 27,
   "metadata": {},
   "outputs": [
    {
     "name": "stdout",
     "output_type": "stream",
     "text": [
      "Elapsed time: 82.85 s\n"
     ]
    },
    {
     "data": {
      "text/plain": [
       "<xarray.Dataset>\n",
       "Dimensions:    (latitude: 7001, longitude: 10001, month: 12)\n",
       "Coordinates:\n",
       "  * latitude   (latitude) float64 10.0 9.99 9.98 9.97 ... -59.98 -59.99 -60.0\n",
       "  * longitude  (longitude) float64 80.0 80.01 80.02 80.03 ... 180.0 180.0 180.0\n",
       "  * month      (month) int64 1 2 3 4 5 6 7 8 9 10 11 12\n",
       "Data variables:\n",
       "    K_490      (month, latitude, longitude) float32 nan nan nan ... 0.083 0.083"
      ]
     },
     "execution_count": 27,
     "metadata": {},
     "output_type": "execute_result"
    }
   ],
   "source": [
    "import time\n",
    "\n",
    "start = time.time()\n",
    "monthly_mean = ds_zarr.groupby('time.month').mean('time').compute() \n",
    "end = time.time()\n",
    "print('Elapsed time: %.2f s' % (end - start))\n",
    "\n",
    "monthly_mean"
   ]
  },
  {
   "cell_type": "markdown",
   "metadata": {},
   "source": [
    "### 5. Against the Zarr on S3 directly"
   ]
  },
  {
   "cell_type": "code",
   "execution_count": 4,
   "metadata": {},
   "outputs": [
    {
     "data": {
      "text/plain": [
       "<xarray.Dataset>\n",
       "Dimensions:    (latitude: 7001, longitude: 10001, time: 365)\n",
       "Coordinates:\n",
       "  * latitude   (latitude) float64 10.0 9.99 9.98 9.97 ... -59.98 -59.99 -60.0\n",
       "  * longitude  (longitude) float64 80.0 80.01 80.02 80.03 ... 180.0 180.0 180.0\n",
       "  * time       (time) datetime64[ns] 2014-01-01 2014-01-02 ... 2014-12-31\n",
       "Data variables:\n",
       "    K_490      (time, latitude, longitude) float32 dask.array<shape=(365, 7001, 10001), chunksize=(7, 856, 1223)>\n",
       "Attributes:\n",
       "    Conventions:  CF-1.6\n",
       "    history:      File initialised at 2015-12-16T15:53:48.785210\\nInitialised...\n",
       "    source_path:  imos-srs/archive/oc/aqua/1d/v201508/2014/01/A20140101.L2OC_..."
      ]
     },
     "execution_count": 4,
     "metadata": {},
     "output_type": "execute_result"
    }
   ],
   "source": [
    "import s3fs\n",
    "s3 = s3fs.S3FileSystem(anon=True, client_kwargs=dict(region_name='ap-southeast-2'))\n",
    "store = s3fs.S3Map(root='imos-zarr/aqua.P1D.aust.K_490.2014.zarr', s3=s3, check=False)\n",
    "ds_zarr_s3 = xr.open_zarr(store)\n",
    "ds_zarr_s3"
   ]
  },
  {
   "cell_type": "code",
   "execution_count": null,
   "metadata": {},
   "outputs": [],
   "source": [
    "import time\n",
    "\n",
    "start = time.time()\n",
    "monthly_mean = ds_zarr_s3.groupby('time.month').mean('time').compute() \n",
    "end = time.time()\n",
    "print('Elapsed time: %.2f s' % (end - start))\n",
    "\n",
    "monthly_mean"
   ]
  },
  {
   "cell_type": "markdown",
   "metadata": {},
   "source": [
    "## Summary of Results (when I ran it from Pawsey with 20 workers (40 cores) across three compute nodes)"
   ]
  },
  {
   "cell_type": "markdown",
   "metadata": {},
   "source": [
    "Not terribly scientific (consider almost anecdotal!) but from an order of magnitude perspective it is a telling tale..."
   ]
  },
  {
   "cell_type": "code",
   "execution_count": 13,
   "metadata": {},
   "outputs": [
    {
     "data": {
      "text/plain": [
       "(-0.5, 4.5)"
      ]
     },
     "execution_count": 13,
     "metadata": {},
     "output_type": "execute_result"
    },
    {
     "data": {
      "image/png": "[encoded data removed]",
      "text/plain": [
       "<Figure size 1800x900 with 1 Axes>"
      ]
     },
     "metadata": {
      "needs_background": "light"
     },
     "output_type": "display_data"
    }
   ],
   "source": [
    "import numpy as np\n",
    "import matplotlib.pyplot as plt\n",
    "\n",
    "results = {'thredds_s3':[820.29, 786.2],'netcdf_s3':[400,449,420],'netcdf_lustre':[85.81,119.2,120,189],'zarr_lustre':[46.6,44,82],'zarr_s3':[197.6,207]}\n",
    "\n",
    "fig,ax = plt.subplots(figsize=[6,3],dpi=300)\n",
    "plt.bar(results.keys(),height=[np.mean(np.array(r)) for r in results.values()])\n",
    "ax.set_ylabel('Elapsed time (s)')\n",
    "ax.set_title('Monthly mean of daily grid (365 x 10001 x 7001)')\n",
    "ax.plot([-0.5,6],[40, 40],ls='--',c='k')\n",
    "ax.set_xlim((-0.5,4.5))"
   ]
  },
  {
   "cell_type": "code",
   "execution_count": null,
   "metadata": {},
   "outputs": [],
   "source": []
  }
 ],
 "metadata": {
  "kernelspec": {
   "display_name": "Python [conda env:c3dis2] *",
   "language": "python",
   "name": "conda-env-c3dis2-py"
  },
  "language_info": {
   "codemirror_mode": {
    "name": "ipython",
    "version": 3
   },
   "file_extension": ".py",
   "mimetype": "text/x-python",
   "name": "python",
   "nbconvert_exporter": "python",
   "pygments_lexer": "ipython3",
   "version": "3.6.7"
  }
 },
 "nbformat": 4,
 "nbformat_minor": 2
}
