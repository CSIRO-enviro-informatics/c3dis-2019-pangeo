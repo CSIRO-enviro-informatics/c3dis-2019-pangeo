{
 "cells": [
  {
   "cell_type": "code",
   "execution_count": 1,
   "metadata": {},
   "outputs": [
    {
     "name": "stderr",
     "output_type": "stream",
     "text": [
      "/opt/conda/envs/pyAODN/lib/python3.6/site-packages/dask/config.py:168: YAMLLoadWarning: calling yaml.load() without Loader=... is deprecated, as the default Loader is unsafe. Please read https://msg.pyyaml.org/load for full details.\n",
      "  data = yaml.load(f.read()) or {}\n",
      "/opt/conda/envs/pyAODN/lib/python3.6/site-packages/distributed/config.py:20: YAMLLoadWarning: calling yaml.load() without Loader=... is deprecated, as the default Loader is unsafe. Please read https://msg.pyyaml.org/load for full details.\n",
      "  defaults = yaml.load(f)\n"
     ]
    }
   ],
   "source": [
    "import xarray as xr"
   ]
  },
  {
   "cell_type": "code",
   "execution_count": 2,
   "metadata": {},
   "outputs": [],
   "source": [
    "# from dask_jobqueue import SLURMCluster\n",
    "# cluster = SLURMCluster(scheduler_port=8789)\n",
    "# cluster"
   ]
  },
  {
   "cell_type": "code",
   "execution_count": 3,
   "metadata": {},
   "outputs": [
    {
     "data": {
      "application/vnd.jupyter.widget-view+json": {
       "model_id": "62dca7180a0d45739b0ff94d0a3c20dd",
       "version_major": 2,
       "version_minor": 0
      },
      "text/plain": [
       "VBox(children=(HTML(value='<h2>LocalCluster</h2>'), HBox(children=(HTML(value='\\n<div>\\n  <style scoped>\\n    …"
      ]
     },
     "metadata": {},
     "output_type": "display_data"
    }
   ],
   "source": [
    "from distributed import LocalCluster\n",
    "cluster = LocalCluster(n_workers=3,processes=3,threads_per_worker=1,)\n",
    "cluster"
   ]
  },
  {
   "cell_type": "code",
   "execution_count": 4,
   "metadata": {},
   "outputs": [
    {
     "data": {
      "text/html": [
       "<table style=\"border: 2px solid white;\">\n",
       "<tr>\n",
       "<td style=\"vertical-align: top; border: 0px solid white\">\n",
       "<h3>Client</h3>\n",
       "<ul>\n",
       "  <li><b>Scheduler: </b>tcp://127.0.0.1:44195\n",
       "  <li><b>Dashboard: </b><a href='/proxy/8787/status' target='_blank'>/proxy/8787/status</a>\n",
       "</ul>\n",
       "</td>\n",
       "<td style=\"vertical-align: top; border: 0px solid white\">\n",
       "<h3>Cluster</h3>\n",
       "<ul>\n",
       "  <li><b>Workers: </b>3</li>\n",
       "  <li><b>Cores: </b>3</li>\n",
       "  <li><b>Memory: </b>3.09 GB</li>\n",
       "</ul>\n",
       "</td>\n",
       "</tr>\n",
       "</table>"
      ],
      "text/plain": [
       "<Client: scheduler='tcp://127.0.0.1:44195' processes=3 cores=3>"
      ]
     },
     "execution_count": 4,
     "metadata": {},
     "output_type": "execute_result"
    }
   ],
   "source": [
    "from distributed import Client\n",
    "client=Client(cluster)\n",
    "client"
   ]
  },
  {
   "cell_type": "code",
   "execution_count": 18,
   "metadata": {},
   "outputs": [
    {
     "name": "stdout",
     "output_type": "stream",
     "text": [
      "365\n"
     ]
    }
   ],
   "source": [
    "import glob\n",
    "files=glob.glob('/home/jovyan/shared-data/aqua_netcdf/*2014*')\n",
    "files=sorted(files)\n",
    "print(len(files))"
   ]
  },
  {
   "cell_type": "markdown",
   "metadata": {},
   "source": [
    "And open all the files as a multi-file dataset with XArray"
   ]
  },
  {
   "cell_type": "code",
   "execution_count": 19,
   "metadata": {},
   "outputs": [],
   "source": [
    "ds = xr.open_mfdataset(files,chunks={'longitude':1223,'latitude':856},concat_dim='time',parallel=True)"
   ]
  },
  {
   "cell_type": "code",
   "execution_count": 20,
   "metadata": {
    "scrolled": true
   },
   "outputs": [
    {
     "data": {
      "text/plain": [
       "<xarray.Dataset>\n",
       "Dimensions:    (latitude: 7001, longitude: 10001, time: 90)\n",
       "Coordinates:\n",
       "  * latitude   (latitude) float64 10.0 9.99 9.98 9.97 ... -59.98 -59.99 -60.0\n",
       "  * longitude  (longitude) float64 80.0 80.01 80.02 80.03 ... 180.0 180.0 180.0\n",
       "  * time       (time) datetime64[ns] 2014-01-01 2014-01-02 ... 2014-03-31\n",
       "Data variables:\n",
       "    K_490      (time, latitude, longitude) float32 dask.array<shape=(90, 7001, 10001), chunksize=(7, 856, 1223)>\n",
       "Attributes:\n",
       "    history:      File initialised at 2015-12-16T15:53:48.785210\\nInitialised...\n",
       "    Conventions:  CF-1.6\n",
       "    source_path:  imos-srs/archive/oc/aqua/1d/v201508/2014/01/A20140101.L2OC_..."
      ]
     },
     "execution_count": 20,
     "metadata": {},
     "output_type": "execute_result"
    }
   ],
   "source": [
    "ds=ds.chunk({'time':7,'longitude':1223,'latitude':856})\n",
    "ds"
   ]
  },
  {
   "cell_type": "code",
   "execution_count": 21,
   "metadata": {},
   "outputs": [
    {
     "name": "stdout",
     "output_type": "stream",
     "text": [
      "Dataset size 25.2 GB\n"
     ]
    }
   ],
   "source": [
    "print('Dataset size %.1f GB' % (ds.nbytes/1E9))"
   ]
  },
  {
   "cell_type": "code",
   "execution_count": 22,
   "metadata": {},
   "outputs": [],
   "source": [
    "import zarr\n",
    "zarr_path = '/home/jovyan/shared-data/aqua.P1D.aust.K_490.2014.zarr'"
   ]
  },
  {
   "cell_type": "code",
   "execution_count": 23,
   "metadata": {},
   "outputs": [
    {
     "data": {
      "text/plain": [
       "<xarray.backends.zarr.ZarrStore at 0x7f2ad4524668>"
      ]
     },
     "execution_count": 23,
     "metadata": {},
     "output_type": "execute_result"
    }
   ],
   "source": [
    "compressor = zarr.Blosc(cname='zstd', clevel=3, shuffle=2)\n",
    "encoding = {vname: {'compressor': compressor} for vname in ds.variables}\n",
    "\n",
    "ds.to_zarr(zarr_path,mode='w',encoding=encoding)"
   ]
  },
  {
   "cell_type": "code",
   "execution_count": 24,
   "metadata": {},
   "outputs": [
    {
     "data": {
      "text/plain": [
       "<xarray.Dataset>\n",
       "Dimensions:    (latitude: 7001, longitude: 10001, time: 90)\n",
       "Coordinates:\n",
       "  * latitude   (latitude) float64 10.0 9.99 9.98 9.97 ... -59.98 -59.99 -60.0\n",
       "  * longitude  (longitude) float64 80.0 80.01 80.02 80.03 ... 180.0 180.0 180.0\n",
       "  * time       (time) datetime64[ns] 2014-01-01 2014-01-02 ... 2014-03-31\n",
       "Data variables:\n",
       "    K_490      (time, latitude, longitude) float32 dask.array<shape=(90, 7001, 10001), chunksize=(7, 856, 1223)>\n",
       "Attributes:\n",
       "    Conventions:  CF-1.6\n",
       "    history:      File initialised at 2015-12-16T15:53:48.785210\\nInitialised...\n",
       "    source_path:  imos-srs/archive/oc/aqua/1d/v201508/2014/01/A20140101.L2OC_..."
      ]
     },
     "execution_count": 24,
     "metadata": {},
     "output_type": "execute_result"
    }
   ],
   "source": [
    "ds = xr.open_zarr(zarr_path)\n",
    "ds"
   ]
  },
  {
   "cell_type": "code",
   "execution_count": null,
   "metadata": {},
   "outputs": [],
   "source": []
  }
 ],
 "metadata": {
  "kernelspec": {
   "display_name": "Python [conda env:pyAODN]",
   "language": "python",
   "name": "conda-env-pyAODN-py"
  },
  "language_info": {
   "codemirror_mode": {
    "name": "ipython",
    "version": 3
   },
   "file_extension": ".py",
   "mimetype": "text/x-python",
   "name": "python",
   "nbconvert_exporter": "python",
   "pygments_lexer": "ipython3",
   "version": "3.6.7"
  }
 },
 "nbformat": 4,
 "nbformat_minor": 2
}
